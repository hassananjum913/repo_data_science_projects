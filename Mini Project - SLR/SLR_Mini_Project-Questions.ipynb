{
 "cells": [
  {
   "cell_type": "markdown",
   "metadata": {},
   "source": [
    "<h1 class=\"list-group-item list-group-item-action active\" data-toggle=\"list\"  role=\"tab\" aria-controls=\"home\">SUPERVISED LEARNING REGRESSION MINI PROJECT </h1>\n",
    "     \n"
   ]
  },
  {
   "cell_type": "markdown",
   "metadata": {},
   "source": [
    "<h2 class=\"list-group-item list-group-item-action active\" >1. Read the dataset likes.csv </h2>"
   ]
  },
  {
   "cell_type": "code",
   "execution_count": 409,
   "metadata": {},
   "outputs": [],
   "source": [
    "import pandas as pd\n",
    "import numpy as np\n",
    "import matplotlib.pyplot as plt\n",
    "import seaborn as sns\n",
    "\n",
    "import statsmodels.api as sm\n",
    "\n",
    "import warnings\n",
    "warnings.filterwarnings('ignore')\n",
    "\n",
    "from sklearn.preprocessing import StandardScaler"
   ]
  },
  {
   "cell_type": "code",
   "execution_count": 410,
   "metadata": {},
   "outputs": [
    {
     "data": {
      "text/html": [
       "<div>\n",
       "<style scoped>\n",
       "    .dataframe tbody tr th:only-of-type {\n",
       "        vertical-align: middle;\n",
       "    }\n",
       "\n",
       "    .dataframe tbody tr th {\n",
       "        vertical-align: top;\n",
       "    }\n",
       "\n",
       "    .dataframe thead th {\n",
       "        text-align: right;\n",
       "    }\n",
       "</style>\n",
       "<table border=\"1\" class=\"dataframe\">\n",
       "  <thead>\n",
       "    <tr style=\"text-align: right;\">\n",
       "      <th></th>\n",
       "      <th>age</th>\n",
       "      <th>dob_day</th>\n",
       "      <th>dob_year</th>\n",
       "      <th>dob_month</th>\n",
       "      <th>gender</th>\n",
       "      <th>tenure</th>\n",
       "      <th>friend_count</th>\n",
       "      <th>friendships_initiated</th>\n",
       "      <th>likes</th>\n",
       "      <th>likes_received</th>\n",
       "      <th>mobile_likes</th>\n",
       "      <th>mobile_likes_received</th>\n",
       "      <th>www_likes</th>\n",
       "      <th>www_likes_received</th>\n",
       "    </tr>\n",
       "    <tr>\n",
       "      <th>userid</th>\n",
       "      <th></th>\n",
       "      <th></th>\n",
       "      <th></th>\n",
       "      <th></th>\n",
       "      <th></th>\n",
       "      <th></th>\n",
       "      <th></th>\n",
       "      <th></th>\n",
       "      <th></th>\n",
       "      <th></th>\n",
       "      <th></th>\n",
       "      <th></th>\n",
       "      <th></th>\n",
       "      <th></th>\n",
       "    </tr>\n",
       "  </thead>\n",
       "  <tbody>\n",
       "    <tr>\n",
       "      <th>1098638</th>\n",
       "      <td>13</td>\n",
       "      <td>2</td>\n",
       "      <td>2000</td>\n",
       "      <td>2</td>\n",
       "      <td>male</td>\n",
       "      <td>0</td>\n",
       "      <td>0</td>\n",
       "      <td>0</td>\n",
       "      <td>1</td>\n",
       "      <td>0</td>\n",
       "      <td>0</td>\n",
       "      <td>0</td>\n",
       "      <td>1</td>\n",
       "      <td>0</td>\n",
       "    </tr>\n",
       "    <tr>\n",
       "      <th>2063204</th>\n",
       "      <td>14</td>\n",
       "      <td>22</td>\n",
       "      <td>1999</td>\n",
       "      <td>1</td>\n",
       "      <td>male</td>\n",
       "      <td>104</td>\n",
       "      <td>0</td>\n",
       "      <td>0</td>\n",
       "      <td>1</td>\n",
       "      <td>0</td>\n",
       "      <td>0</td>\n",
       "      <td>0</td>\n",
       "      <td>1</td>\n",
       "      <td>0</td>\n",
       "    </tr>\n",
       "    <tr>\n",
       "      <th>1579594</th>\n",
       "      <td>19</td>\n",
       "      <td>18</td>\n",
       "      <td>1994</td>\n",
       "      <td>10</td>\n",
       "      <td>female</td>\n",
       "      <td>212</td>\n",
       "      <td>0</td>\n",
       "      <td>0</td>\n",
       "      <td>1</td>\n",
       "      <td>0</td>\n",
       "      <td>0</td>\n",
       "      <td>0</td>\n",
       "      <td>1</td>\n",
       "      <td>0</td>\n",
       "    </tr>\n",
       "    <tr>\n",
       "      <th>1979672</th>\n",
       "      <td>21</td>\n",
       "      <td>1</td>\n",
       "      <td>1992</td>\n",
       "      <td>1</td>\n",
       "      <td>male</td>\n",
       "      <td>328</td>\n",
       "      <td>0</td>\n",
       "      <td>0</td>\n",
       "      <td>1</td>\n",
       "      <td>0</td>\n",
       "      <td>0</td>\n",
       "      <td>0</td>\n",
       "      <td>1</td>\n",
       "      <td>0</td>\n",
       "    </tr>\n",
       "    <tr>\n",
       "      <th>1344831</th>\n",
       "      <td>23</td>\n",
       "      <td>10</td>\n",
       "      <td>1990</td>\n",
       "      <td>2</td>\n",
       "      <td>male</td>\n",
       "      <td>580</td>\n",
       "      <td>0</td>\n",
       "      <td>0</td>\n",
       "      <td>1</td>\n",
       "      <td>0</td>\n",
       "      <td>0</td>\n",
       "      <td>0</td>\n",
       "      <td>1</td>\n",
       "      <td>0</td>\n",
       "    </tr>\n",
       "  </tbody>\n",
       "</table>\n",
       "</div>"
      ],
      "text/plain": [
       "         age  dob_day  dob_year  dob_month  gender  tenure  friend_count  \\\n",
       "userid                                                                     \n",
       "1098638   13        2      2000          2    male       0             0   \n",
       "2063204   14       22      1999          1    male     104             0   \n",
       "1579594   19       18      1994         10  female     212             0   \n",
       "1979672   21        1      1992          1    male     328             0   \n",
       "1344831   23       10      1990          2    male     580             0   \n",
       "\n",
       "         friendships_initiated  likes  likes_received  mobile_likes  \\\n",
       "userid                                                                \n",
       "1098638                      0      1               0             0   \n",
       "2063204                      0      1               0             0   \n",
       "1579594                      0      1               0             0   \n",
       "1979672                      0      1               0             0   \n",
       "1344831                      0      1               0             0   \n",
       "\n",
       "         mobile_likes_received  www_likes  www_likes_received  \n",
       "userid                                                         \n",
       "1098638                      0          1                   0  \n",
       "2063204                      0          1                   0  \n",
       "1579594                      0          1                   0  \n",
       "1979672                      0          1                   0  \n",
       "1344831                      0          1                   0  "
      ]
     },
     "execution_count": 410,
     "metadata": {},
     "output_type": "execute_result"
    }
   ],
   "source": [
    "df = pd.read_csv('Likes.csv',index_col='userid')\n",
    "df.head()"
   ]
  },
  {
   "cell_type": "code",
   "execution_count": 411,
   "metadata": {},
   "outputs": [
    {
     "name": "stdout",
     "output_type": "stream",
     "text": [
      "<class 'pandas.core.frame.DataFrame'>\n",
      "Int64Index: 2104 entries, 1098638 to 1346608\n",
      "Data columns (total 14 columns):\n",
      " #   Column                 Non-Null Count  Dtype \n",
      "---  ------                 --------------  ----- \n",
      " 0   age                    2104 non-null   int64 \n",
      " 1   dob_day                2104 non-null   int64 \n",
      " 2   dob_year               2104 non-null   int64 \n",
      " 3   dob_month              2104 non-null   int64 \n",
      " 4   gender                 2102 non-null   object\n",
      " 5   tenure                 2104 non-null   int64 \n",
      " 6   friend_count           2104 non-null   int64 \n",
      " 7   friendships_initiated  2104 non-null   int64 \n",
      " 8   likes                  2104 non-null   int64 \n",
      " 9   likes_received         2104 non-null   int64 \n",
      " 10  mobile_likes           2104 non-null   int64 \n",
      " 11  mobile_likes_received  2104 non-null   int64 \n",
      " 12  www_likes              2104 non-null   int64 \n",
      " 13  www_likes_received     2104 non-null   int64 \n",
      "dtypes: int64(13), object(1)\n",
      "memory usage: 246.6+ KB\n"
     ]
    }
   ],
   "source": [
    "df.info()"
   ]
  },
  {
   "cell_type": "code",
   "execution_count": 412,
   "metadata": {},
   "outputs": [
    {
     "data": {
      "text/plain": [
       "age                      0\n",
       "dob_day                  0\n",
       "dob_year                 0\n",
       "dob_month                0\n",
       "gender                   2\n",
       "tenure                   0\n",
       "friend_count             0\n",
       "friendships_initiated    0\n",
       "likes                    0\n",
       "likes_received           0\n",
       "mobile_likes             0\n",
       "mobile_likes_received    0\n",
       "www_likes                0\n",
       "www_likes_received       0\n",
       "dtype: int64"
      ]
     },
     "execution_count": 412,
     "metadata": {},
     "output_type": "execute_result"
    }
   ],
   "source": [
    "df.isna().sum()"
   ]
  },
  {
   "cell_type": "code",
   "execution_count": 413,
   "metadata": {},
   "outputs": [],
   "source": [
    "df = df.dropna(subset=['gender'],axis=0)"
   ]
  },
  {
   "cell_type": "code",
   "execution_count": 414,
   "metadata": {},
   "outputs": [
    {
     "data": {
      "text/plain": [
       "age                      0\n",
       "dob_day                  0\n",
       "dob_year                 0\n",
       "dob_month                0\n",
       "gender                   0\n",
       "tenure                   0\n",
       "friend_count             0\n",
       "friendships_initiated    0\n",
       "likes                    0\n",
       "likes_received           0\n",
       "mobile_likes             0\n",
       "mobile_likes_received    0\n",
       "www_likes                0\n",
       "www_likes_received       0\n",
       "dtype: int64"
      ]
     },
     "execution_count": 414,
     "metadata": {},
     "output_type": "execute_result"
    }
   ],
   "source": [
    "df.isna().sum()"
   ]
  },
  {
   "cell_type": "markdown",
   "metadata": {},
   "source": [
    "<h2 class=\"list-group-item list-group-item-action active\" >2. Basic EDA to understand dataset </h2>\n",
    "\n",
    ">### 1.  Select more than five columns for EDA\n",
    "\n",
    " Step1: Each plot must Use the subplots \n",
    " \n",
    "             Plot 1: Histogram or bar, line and use suitable plots\n",
    "             \n",
    "             Plot2: Box plot \n",
    "             \n",
    " Step2: Write the inference is it data skewed or not\n",
    "\n",
    " Step3: Write the inference is it data having  outliers  or not\n",
    "\n",
    "\n",
    "\n",
    ">### 2.  Plot the heat map \n",
    "             \n",
    "  Step1: Write the inference on the dependent variable and independent variable having the most (Positive and Negative) correlation columns \n",
    "\n",
    "\n",
    "  Step2: Write the inference on the correlation among independent variables"
   ]
  },
  {
   "cell_type": "markdown",
   "metadata": {},
   "source": [
    "### `1.  Select more than five columns for EDA`"
   ]
  },
  {
   "cell_type": "code",
   "execution_count": 415,
   "metadata": {},
   "outputs": [
    {
     "data": {
      "text/html": [
       "<div>\n",
       "<style scoped>\n",
       "    .dataframe tbody tr th:only-of-type {\n",
       "        vertical-align: middle;\n",
       "    }\n",
       "\n",
       "    .dataframe tbody tr th {\n",
       "        vertical-align: top;\n",
       "    }\n",
       "\n",
       "    .dataframe thead th {\n",
       "        text-align: right;\n",
       "    }\n",
       "</style>\n",
       "<table border=\"1\" class=\"dataframe\">\n",
       "  <thead>\n",
       "    <tr style=\"text-align: right;\">\n",
       "      <th></th>\n",
       "      <th>age</th>\n",
       "      <th>dob_day</th>\n",
       "      <th>dob_year</th>\n",
       "      <th>dob_month</th>\n",
       "      <th>tenure</th>\n",
       "      <th>friend_count</th>\n",
       "      <th>friendships_initiated</th>\n",
       "      <th>likes</th>\n",
       "      <th>likes_received</th>\n",
       "      <th>mobile_likes</th>\n",
       "      <th>mobile_likes_received</th>\n",
       "      <th>www_likes</th>\n",
       "      <th>www_likes_received</th>\n",
       "    </tr>\n",
       "    <tr>\n",
       "      <th>userid</th>\n",
       "      <th></th>\n",
       "      <th></th>\n",
       "      <th></th>\n",
       "      <th></th>\n",
       "      <th></th>\n",
       "      <th></th>\n",
       "      <th></th>\n",
       "      <th></th>\n",
       "      <th></th>\n",
       "      <th></th>\n",
       "      <th></th>\n",
       "      <th></th>\n",
       "      <th></th>\n",
       "    </tr>\n",
       "  </thead>\n",
       "  <tbody>\n",
       "    <tr>\n",
       "      <th>1098638</th>\n",
       "      <td>13</td>\n",
       "      <td>2</td>\n",
       "      <td>2000</td>\n",
       "      <td>2</td>\n",
       "      <td>0</td>\n",
       "      <td>0</td>\n",
       "      <td>0</td>\n",
       "      <td>1</td>\n",
       "      <td>0</td>\n",
       "      <td>0</td>\n",
       "      <td>0</td>\n",
       "      <td>1</td>\n",
       "      <td>0</td>\n",
       "    </tr>\n",
       "    <tr>\n",
       "      <th>2063204</th>\n",
       "      <td>14</td>\n",
       "      <td>22</td>\n",
       "      <td>1999</td>\n",
       "      <td>1</td>\n",
       "      <td>104</td>\n",
       "      <td>0</td>\n",
       "      <td>0</td>\n",
       "      <td>1</td>\n",
       "      <td>0</td>\n",
       "      <td>0</td>\n",
       "      <td>0</td>\n",
       "      <td>1</td>\n",
       "      <td>0</td>\n",
       "    </tr>\n",
       "    <tr>\n",
       "      <th>1579594</th>\n",
       "      <td>19</td>\n",
       "      <td>18</td>\n",
       "      <td>1994</td>\n",
       "      <td>10</td>\n",
       "      <td>212</td>\n",
       "      <td>0</td>\n",
       "      <td>0</td>\n",
       "      <td>1</td>\n",
       "      <td>0</td>\n",
       "      <td>0</td>\n",
       "      <td>0</td>\n",
       "      <td>1</td>\n",
       "      <td>0</td>\n",
       "    </tr>\n",
       "    <tr>\n",
       "      <th>1979672</th>\n",
       "      <td>21</td>\n",
       "      <td>1</td>\n",
       "      <td>1992</td>\n",
       "      <td>1</td>\n",
       "      <td>328</td>\n",
       "      <td>0</td>\n",
       "      <td>0</td>\n",
       "      <td>1</td>\n",
       "      <td>0</td>\n",
       "      <td>0</td>\n",
       "      <td>0</td>\n",
       "      <td>1</td>\n",
       "      <td>0</td>\n",
       "    </tr>\n",
       "    <tr>\n",
       "      <th>1344831</th>\n",
       "      <td>23</td>\n",
       "      <td>10</td>\n",
       "      <td>1990</td>\n",
       "      <td>2</td>\n",
       "      <td>580</td>\n",
       "      <td>0</td>\n",
       "      <td>0</td>\n",
       "      <td>1</td>\n",
       "      <td>0</td>\n",
       "      <td>0</td>\n",
       "      <td>0</td>\n",
       "      <td>1</td>\n",
       "      <td>0</td>\n",
       "    </tr>\n",
       "  </tbody>\n",
       "</table>\n",
       "</div>"
      ],
      "text/plain": [
       "         age  dob_day  dob_year  dob_month  tenure  friend_count  \\\n",
       "userid                                                             \n",
       "1098638   13        2      2000          2       0             0   \n",
       "2063204   14       22      1999          1     104             0   \n",
       "1579594   19       18      1994         10     212             0   \n",
       "1979672   21        1      1992          1     328             0   \n",
       "1344831   23       10      1990          2     580             0   \n",
       "\n",
       "         friendships_initiated  likes  likes_received  mobile_likes  \\\n",
       "userid                                                                \n",
       "1098638                      0      1               0             0   \n",
       "2063204                      0      1               0             0   \n",
       "1579594                      0      1               0             0   \n",
       "1979672                      0      1               0             0   \n",
       "1344831                      0      1               0             0   \n",
       "\n",
       "         mobile_likes_received  www_likes  www_likes_received  \n",
       "userid                                                         \n",
       "1098638                      0          1                   0  \n",
       "2063204                      0          1                   0  \n",
       "1579594                      0          1                   0  \n",
       "1979672                      0          1                   0  \n",
       "1344831                      0          1                   0  "
      ]
     },
     "execution_count": 415,
     "metadata": {},
     "output_type": "execute_result"
    }
   ],
   "source": [
    "df_numeric = df.select_dtypes(include=np.number)\n",
    "df_numeric.head()"
   ]
  },
  {
   "cell_type": "code",
   "execution_count": 416,
   "metadata": {},
   "outputs": [
    {
     "data": {
      "text/html": [
       "<div>\n",
       "<style scoped>\n",
       "    .dataframe tbody tr th:only-of-type {\n",
       "        vertical-align: middle;\n",
       "    }\n",
       "\n",
       "    .dataframe tbody tr th {\n",
       "        vertical-align: top;\n",
       "    }\n",
       "\n",
       "    .dataframe thead th {\n",
       "        text-align: right;\n",
       "    }\n",
       "</style>\n",
       "<table border=\"1\" class=\"dataframe\">\n",
       "  <thead>\n",
       "    <tr style=\"text-align: right;\">\n",
       "      <th></th>\n",
       "      <th>gender</th>\n",
       "    </tr>\n",
       "    <tr>\n",
       "      <th>userid</th>\n",
       "      <th></th>\n",
       "    </tr>\n",
       "  </thead>\n",
       "  <tbody>\n",
       "    <tr>\n",
       "      <th>1098638</th>\n",
       "      <td>male</td>\n",
       "    </tr>\n",
       "    <tr>\n",
       "      <th>2063204</th>\n",
       "      <td>male</td>\n",
       "    </tr>\n",
       "    <tr>\n",
       "      <th>1579594</th>\n",
       "      <td>female</td>\n",
       "    </tr>\n",
       "    <tr>\n",
       "      <th>1979672</th>\n",
       "      <td>male</td>\n",
       "    </tr>\n",
       "    <tr>\n",
       "      <th>1344831</th>\n",
       "      <td>male</td>\n",
       "    </tr>\n",
       "  </tbody>\n",
       "</table>\n",
       "</div>"
      ],
      "text/plain": [
       "         gender\n",
       "userid         \n",
       "1098638    male\n",
       "2063204    male\n",
       "1579594  female\n",
       "1979672    male\n",
       "1344831    male"
      ]
     },
     "execution_count": 416,
     "metadata": {},
     "output_type": "execute_result"
    }
   ],
   "source": [
    "df_categ = df.select_dtypes(exclude=np.number)\n",
    "df_categ.head()"
   ]
  },
  {
   "cell_type": "code",
   "execution_count": 417,
   "metadata": {},
   "outputs": [],
   "source": [
    "ss = StandardScaler()"
   ]
  },
  {
   "cell_type": "code",
   "execution_count": 418,
   "metadata": {},
   "outputs": [
    {
     "name": "stdout",
     "output_type": "stream",
     "text": [
      "column name:  age -- skewness:  1.6307256057199968\n",
      "column name:  dob_day -- skewness:  0.24179168831601616\n",
      "column name:  dob_year -- skewness:  -1.6307256057199984\n",
      "column name:  dob_month -- skewness:  0.158793939711598\n",
      "column name:  tenure -- skewness:  2.038302285466195\n",
      "column name:  friend_count -- skewness:  0.3396388811129769\n",
      "column name:  friendships_initiated -- skewness:  0.6939669866214988\n",
      "column name:  likes -- skewness:  24.947660619875464\n",
      "column name:  likes_received -- skewness:  18.409402972023273\n",
      "column name:  mobile_likes -- skewness:  28.551561181225225\n",
      "column name:  mobile_likes_received -- skewness:  18.55799536605876\n",
      "column name:  www_likes -- skewness:  16.933760229475237\n",
      "column name:  www_likes_received -- skewness:  17.05153605445564\n"
     ]
    }
   ],
   "source": [
    "for i in df_numeric.columns:\n",
    "    print('column name: ',i,'--','skewness: ',df_numeric[i].skew())"
   ]
  },
  {
   "cell_type": "code",
   "execution_count": 419,
   "metadata": {},
   "outputs": [
    {
     "data": {
      "text/plain": [
       "<Figure size 432x288 with 0 Axes>"
      ]
     },
     "metadata": {},
     "output_type": "display_data"
    },
    {
     "data": {
      "image/png": "[encoded data removed]",
      "text/plain": [
       "<Figure size 1440x720 with 16 Axes>"
      ]
     },
     "metadata": {
      "needs_background": "light"
     },
     "output_type": "display_data"
    }
   ],
   "source": [
    "plt.tight_layout()\n",
    "\n",
    "df_numeric_scaled = ss.fit_transform(df_numeric)\n",
    "df_numeric_scaled = pd.DataFrame(df_numeric_scaled,columns=df_numeric.columns)\n",
    "_ =df_numeric_scaled.hist(figsize=(20,10),bins=50)\n"
   ]
  },
  {
   "cell_type": "code",
   "execution_count": 420,
   "metadata": {},
   "outputs": [
    {
     "data": {
      "text/plain": [
       "<Figure size 432x288 with 0 Axes>"
      ]
     },
     "metadata": {},
     "output_type": "display_data"
    },
    {
     "data": {
      "image/png": "[encoded data removed]",
      "text/plain": [
       "<Figure size 1800x720 with 1 Axes>"
      ]
     },
     "metadata": {
      "needs_background": "light"
     },
     "output_type": "display_data"
    }
   ],
   "source": [
    "plt.tight_layout()\n",
    "\n",
    "df_numeric_scaled = ss.fit_transform(df_numeric)\n",
    "df_numeric_scaled = pd.DataFrame(df_numeric_scaled,columns=df_numeric.columns)\n",
    "_=df_numeric_scaled.plot(kind='box',figsize=(25,10))"
   ]
  },
  {
   "cell_type": "code",
   "execution_count": 421,
   "metadata": {},
   "outputs": [
    {
     "data": {
      "text/plain": [
       "<AxesSubplot:xlabel='gender', ylabel='count'>"
      ]
     },
     "execution_count": 421,
     "metadata": {},
     "output_type": "execute_result"
    },
    {
     "data": {
      "image/png": "[encoded data removed]",
      "text/plain": [
       "<Figure size 432x288 with 1 Axes>"
      ]
     },
     "metadata": {
      "needs_background": "light"
     },
     "output_type": "display_data"
    }
   ],
   "source": [
    "sns.countplot(df_categ['gender'])"
   ]
  },
  {
   "cell_type": "markdown",
   "metadata": {},
   "source": [
    "Inference:\n",
    "* From the above histograms and skewness calculation , we can infer that all of the columns except dob year is right skewed, only dob_yea is left skewed.\n",
    "\n",
    "* From the box-plot , we can infer that for all columns the ouliers are present in the right side of the distribution except for dob_year the outliers are in the left side of the distribution. "
   ]
  },
  {
   "cell_type": "markdown",
   "metadata": {},
   "source": [
    "#### `2.  Plot the heat map `"
   ]
  },
  {
   "cell_type": "code",
   "execution_count": 422,
   "metadata": {},
   "outputs": [
    {
     "data": {
      "text/plain": [
       "<AxesSubplot:>"
      ]
     },
     "execution_count": 422,
     "metadata": {},
     "output_type": "execute_result"
    },
    {
     "data": {
      "image/png": "[encoded data removed]",
      "text/plain": [
       "<Figure size 1080x576 with 2 Axes>"
      ]
     },
     "metadata": {
      "needs_background": "light"
     },
     "output_type": "display_data"
    }
   ],
   "source": [
    "plt.figure(figsize=(15,8))\n",
    "sns.heatmap(df_numeric.corr(),annot=True)"
   ]
  },
  {
   "cell_type": "code",
   "execution_count": 423,
   "metadata": {},
   "outputs": [
    {
     "data": {
      "text/plain": [
       "Index(['age', 'dob_day', 'dob_year', 'dob_month', 'tenure', 'friend_count',\n",
       "       'friendships_initiated', 'likes', 'likes_received', 'mobile_likes',\n",
       "       'mobile_likes_received', 'www_likes', 'www_likes_received'],\n",
       "      dtype='object')"
      ]
     },
     "execution_count": 423,
     "metadata": {},
     "output_type": "execute_result"
    }
   ],
   "source": [
    "df_numeric.columns"
   ]
  },
  {
   "cell_type": "code",
   "execution_count": 424,
   "metadata": {},
   "outputs": [
    {
     "data": {
      "text/plain": [
       "<AxesSubplot:>"
      ]
     },
     "execution_count": 424,
     "metadata": {},
     "output_type": "execute_result"
    },
    {
     "data": {
      "image/png": "[encoded data removed]",
      "text/plain": [
       "<Figure size 1080x576 with 2 Axes>"
      ]
     },
     "metadata": {
      "needs_background": "light"
     },
     "output_type": "display_data"
    }
   ],
   "source": [
    "df_numeric_feat = df_numeric.drop('likes',axis=1)\n",
    "plt.figure(figsize=(15,8))\n",
    "sns.heatmap(df_numeric_feat.corr(),annot=True)"
   ]
  },
  {
   "cell_type": "markdown",
   "metadata": {},
   "source": [
    "Inference:\n",
    "*  The columns that are significantly correlated with dependent varibles are: www_likes_received, www_likes,mobile_likes_received,mobile_likes,likes_received.\n",
    "* The columns that are significantly correlated wih each others are:likes_recieved,mobile_likes_recieved,www_likes_recieved."
   ]
  },
  {
   "cell_type": "markdown",
   "metadata": {},
   "source": [
    "<h2 class=\"list-group-item list-group-item-action active\" >3.Split dataset into train and test,Scaling    </h2>\n",
    "\n",
    ">### 1. Split the dataset in dependent variable is [`likes`] and independent\n",
    "\n",
    ">### 2. Convert categorical variables to numeric variables\n",
    "\n",
    ">### 3. Scale the features \n",
    "\n",
    ">### 4. Split dataset into train(70%) and test(30%).How would you ascertain this statistically? \n",
    " "
   ]
  },
  {
   "cell_type": "code",
   "execution_count": 425,
   "metadata": {},
   "outputs": [],
   "source": [
    "df = df.reset_index(drop=True)"
   ]
  },
  {
   "cell_type": "code",
   "execution_count": 426,
   "metadata": {},
   "outputs": [],
   "source": [
    "df1 = pd.get_dummies(df['gender'],drop_first=True)"
   ]
  },
  {
   "cell_type": "code",
   "execution_count": 427,
   "metadata": {},
   "outputs": [],
   "source": [
    "df = pd.concat([df,df1],axis=1)"
   ]
  },
  {
   "cell_type": "code",
   "execution_count": 428,
   "metadata": {},
   "outputs": [],
   "source": [
    "df = df.drop('gender',axis=1)"
   ]
  },
  {
   "cell_type": "code",
   "execution_count": 429,
   "metadata": {},
   "outputs": [
    {
     "data": {
      "text/html": [
       "<div>\n",
       "<style scoped>\n",
       "    .dataframe tbody tr th:only-of-type {\n",
       "        vertical-align: middle;\n",
       "    }\n",
       "\n",
       "    .dataframe tbody tr th {\n",
       "        vertical-align: top;\n",
       "    }\n",
       "\n",
       "    .dataframe thead th {\n",
       "        text-align: right;\n",
       "    }\n",
       "</style>\n",
       "<table border=\"1\" class=\"dataframe\">\n",
       "  <thead>\n",
       "    <tr style=\"text-align: right;\">\n",
       "      <th></th>\n",
       "      <th>age</th>\n",
       "      <th>dob_day</th>\n",
       "      <th>dob_year</th>\n",
       "      <th>dob_month</th>\n",
       "      <th>tenure</th>\n",
       "      <th>friend_count</th>\n",
       "      <th>friendships_initiated</th>\n",
       "      <th>likes</th>\n",
       "      <th>likes_received</th>\n",
       "      <th>mobile_likes</th>\n",
       "      <th>mobile_likes_received</th>\n",
       "      <th>www_likes</th>\n",
       "      <th>www_likes_received</th>\n",
       "      <th>male</th>\n",
       "    </tr>\n",
       "  </thead>\n",
       "  <tbody>\n",
       "    <tr>\n",
       "      <th>0</th>\n",
       "      <td>13</td>\n",
       "      <td>2</td>\n",
       "      <td>2000</td>\n",
       "      <td>2</td>\n",
       "      <td>0</td>\n",
       "      <td>0</td>\n",
       "      <td>0</td>\n",
       "      <td>1</td>\n",
       "      <td>0</td>\n",
       "      <td>0</td>\n",
       "      <td>0</td>\n",
       "      <td>1</td>\n",
       "      <td>0</td>\n",
       "      <td>1</td>\n",
       "    </tr>\n",
       "    <tr>\n",
       "      <th>1</th>\n",
       "      <td>14</td>\n",
       "      <td>22</td>\n",
       "      <td>1999</td>\n",
       "      <td>1</td>\n",
       "      <td>104</td>\n",
       "      <td>0</td>\n",
       "      <td>0</td>\n",
       "      <td>1</td>\n",
       "      <td>0</td>\n",
       "      <td>0</td>\n",
       "      <td>0</td>\n",
       "      <td>1</td>\n",
       "      <td>0</td>\n",
       "      <td>1</td>\n",
       "    </tr>\n",
       "    <tr>\n",
       "      <th>2</th>\n",
       "      <td>19</td>\n",
       "      <td>18</td>\n",
       "      <td>1994</td>\n",
       "      <td>10</td>\n",
       "      <td>212</td>\n",
       "      <td>0</td>\n",
       "      <td>0</td>\n",
       "      <td>1</td>\n",
       "      <td>0</td>\n",
       "      <td>0</td>\n",
       "      <td>0</td>\n",
       "      <td>1</td>\n",
       "      <td>0</td>\n",
       "      <td>0</td>\n",
       "    </tr>\n",
       "    <tr>\n",
       "      <th>3</th>\n",
       "      <td>21</td>\n",
       "      <td>1</td>\n",
       "      <td>1992</td>\n",
       "      <td>1</td>\n",
       "      <td>328</td>\n",
       "      <td>0</td>\n",
       "      <td>0</td>\n",
       "      <td>1</td>\n",
       "      <td>0</td>\n",
       "      <td>0</td>\n",
       "      <td>0</td>\n",
       "      <td>1</td>\n",
       "      <td>0</td>\n",
       "      <td>1</td>\n",
       "    </tr>\n",
       "    <tr>\n",
       "      <th>4</th>\n",
       "      <td>23</td>\n",
       "      <td>10</td>\n",
       "      <td>1990</td>\n",
       "      <td>2</td>\n",
       "      <td>580</td>\n",
       "      <td>0</td>\n",
       "      <td>0</td>\n",
       "      <td>1</td>\n",
       "      <td>0</td>\n",
       "      <td>0</td>\n",
       "      <td>0</td>\n",
       "      <td>1</td>\n",
       "      <td>0</td>\n",
       "      <td>1</td>\n",
       "    </tr>\n",
       "  </tbody>\n",
       "</table>\n",
       "</div>"
      ],
      "text/plain": [
       "   age  dob_day  dob_year  dob_month  tenure  friend_count  \\\n",
       "0   13        2      2000          2       0             0   \n",
       "1   14       22      1999          1     104             0   \n",
       "2   19       18      1994         10     212             0   \n",
       "3   21        1      1992          1     328             0   \n",
       "4   23       10      1990          2     580             0   \n",
       "\n",
       "   friendships_initiated  likes  likes_received  mobile_likes  \\\n",
       "0                      0      1               0             0   \n",
       "1                      0      1               0             0   \n",
       "2                      0      1               0             0   \n",
       "3                      0      1               0             0   \n",
       "4                      0      1               0             0   \n",
       "\n",
       "   mobile_likes_received  www_likes  www_likes_received  male  \n",
       "0                      0          1                   0     1  \n",
       "1                      0          1                   0     1  \n",
       "2                      0          1                   0     0  \n",
       "3                      0          1                   0     1  \n",
       "4                      0          1                   0     1  "
      ]
     },
     "execution_count": 429,
     "metadata": {},
     "output_type": "execute_result"
    }
   ],
   "source": [
    "df.head()"
   ]
  },
  {
   "cell_type": "code",
   "execution_count": 430,
   "metadata": {},
   "outputs": [],
   "source": [
    "y = df['likes']\n",
    "\n",
    "X = df.drop('likes',axis=1)"
   ]
  },
  {
   "cell_type": "code",
   "execution_count": 431,
   "metadata": {},
   "outputs": [],
   "source": [
    "ss = StandardScaler()\n",
    "Xs = ss.fit_transform(X)\n",
    "Xs = pd.DataFrame(Xs,columns=X.columns)"
   ]
  },
  {
   "cell_type": "code",
   "execution_count": 432,
   "metadata": {},
   "outputs": [],
   "source": [
    "from sklearn.model_selection import train_test_split\n",
    "X_train, X_test, y_train, y_test = train_test_split(Xs,y,test_size=0.3,random_state=1)"
   ]
  },
  {
   "cell_type": "code",
   "execution_count": 433,
   "metadata": {},
   "outputs": [
    {
     "data": {
      "text/plain": [
       "(2102, 13)"
      ]
     },
     "execution_count": 433,
     "metadata": {},
     "output_type": "execute_result"
    }
   ],
   "source": [
    "X.shape"
   ]
  },
  {
   "cell_type": "code",
   "execution_count": 434,
   "metadata": {},
   "outputs": [
    {
     "data": {
      "text/plain": [
       "((1471, 13), (631, 13), (1471,), (631,))"
      ]
     },
     "execution_count": 434,
     "metadata": {},
     "output_type": "execute_result"
    }
   ],
   "source": [
    "X_train.shape,X_test.shape,y_train.shape,y_test.shape"
   ]
  },
  {
   "cell_type": "code",
   "execution_count": 435,
   "metadata": {},
   "outputs": [],
   "source": [
    "X_train = X_train.reset_index(drop=True) \n",
    "y_train = y_train.reset_index(drop=True) "
   ]
  },
  {
   "cell_type": "code",
   "execution_count": 436,
   "metadata": {},
   "outputs": [
    {
     "name": "stdout",
     "output_type": "stream",
     "text": [
      "Train Data percentage: 70 %\n"
     ]
    }
   ],
   "source": [
    "print('Train Data percentage:',round(len(X_train)/len(X)*100),'%')"
   ]
  },
  {
   "cell_type": "code",
   "execution_count": 437,
   "metadata": {},
   "outputs": [
    {
     "name": "stdout",
     "output_type": "stream",
     "text": [
      "Test Data percentage: 30 %\n"
     ]
    }
   ],
   "source": [
    "print('Test Data percentage:',round(len(X_test)/len(X)*100),'%')"
   ]
  },
  {
   "cell_type": "markdown",
   "metadata": {},
   "source": [
    "<h2 class=\"list-group-item list-group-item-action active\" >4.Model Building and Feature Selection using RFE(Recursive feature elimination)   </h2>\n",
    "\n",
    ">### 1. Use Linear Regression\n",
    "\n",
    ">### 2. Evaluation metrics like Rsqaure,Standard error/RMSE. Write the inference.\n",
    "\n",
    ">### 3. Feature selection using RFE\n",
    "\n",
    "Step1: Check the optimal number of features between 4 to 30\n",
    "\n",
    "Step2: RFE with n features(LinearRegression) \n",
    "\n",
    "Step3: Specify the number of features\n",
    "\n",
    "Step4: Fit with n features\n",
    "\n",
    "Step5: Select features selected by rfe_n      \n",
    "\n",
    "Step6:Training & test data for n selected columns        \n",
    "\n",
    "Step7: Add a constant to the model       \n",
    "\n",
    "Step8:Fit the ols model with n features\n",
    "\n",
    "Step9: Calculate evaluation metrics\n",
    "\n",
    "Step 10: Plot r2 and RMSE against n_features  \n",
    "\n",
    "Step11: Write your final inference.    \n",
    "\n",
    "\n",
    "\n",
    "\n",
    ">### 4. Model Bulding with optimal features count\n",
    "\n"
   ]
  },
  {
   "cell_type": "code",
   "execution_count": 438,
   "metadata": {},
   "outputs": [
    {
     "data": {
      "text/plain": [
       "LinearRegression()"
      ]
     },
     "execution_count": 438,
     "metadata": {},
     "output_type": "execute_result"
    }
   ],
   "source": [
    "from sklearn.linear_model import LinearRegression\n",
    "\n",
    "model = LinearRegression() \n",
    "\n",
    "model.fit(X_train,y_train)"
   ]
  },
  {
   "cell_type": "code",
   "execution_count": 439,
   "metadata": {},
   "outputs": [],
   "source": [
    "y_pred = model.predict(X_test)"
   ]
  },
  {
   "cell_type": "code",
   "execution_count": 440,
   "metadata": {},
   "outputs": [],
   "source": [
    "from sklearn.metrics import mean_squared_error,r2_score"
   ]
  },
  {
   "cell_type": "code",
   "execution_count": 441,
   "metadata": {},
   "outputs": [
    {
     "name": "stdout",
     "output_type": "stream",
     "text": [
      "RMSE on the test set : 3.6796183251132525e-13\n",
      "r2_score on the test set : 1.0\n"
     ]
    }
   ],
   "source": [
    "rmse = mean_squared_error(y_test,y_pred,squared=False)\n",
    "\n",
    "r2_score = r2_score(y_test,y_pred)\n",
    "\n",
    "print('RMSE on the test set :', rmse)\n",
    "print('r2_score on the test set :', r2_score)\n"
   ]
  },
  {
   "cell_type": "code",
   "execution_count": 442,
   "metadata": {},
   "outputs": [
    {
     "data": {
      "text/plain": [
       "GridSearchCV(cv=10, estimator=RFE(estimator=LinearRegression()),\n",
       "             param_grid=[{'n_features_to_select': [4, 5, 6, 7, 8, 9, 10, 11, 12,\n",
       "                                                   13, 14, 15, 16, 17, 18, 19,\n",
       "                                                   20, 21, 22, 23, 24, 25, 26,\n",
       "                                                   27, 28, 29]}],\n",
       "             return_train_score=True, scoring='r2')"
      ]
     },
     "execution_count": 442,
     "metadata": {},
     "output_type": "execute_result"
    }
   ],
   "source": [
    "from sklearn.model_selection import GridSearchCV\n",
    "from sklearn.feature_selection import RFE\n",
    "\n",
    "lir = LinearRegression()\n",
    "rfe = RFE(lir)\n",
    "\n",
    "params = [{'n_features_to_select': list(range(4, 30))}]\n",
    "\n",
    "gsearch = GridSearchCV(rfe, param_grid=params, scoring='r2', cv=10, return_train_score=True)\n",
    "gsearch.fit(X_train,y_train)"
   ]
  },
  {
   "cell_type": "code",
   "execution_count": 443,
   "metadata": {},
   "outputs": [
    {
     "data": {
      "text/plain": [
       "{'n_features_to_select': 4}"
      ]
     },
     "execution_count": 443,
     "metadata": {},
     "output_type": "execute_result"
    }
   ],
   "source": [
    "gsearch.best_params_"
   ]
  },
  {
   "cell_type": "code",
   "execution_count": 444,
   "metadata": {},
   "outputs": [
    {
     "data": {
      "text/html": [
       "<div>\n",
       "<style scoped>\n",
       "    .dataframe tbody tr th:only-of-type {\n",
       "        vertical-align: middle;\n",
       "    }\n",
       "\n",
       "    .dataframe tbody tr th {\n",
       "        vertical-align: top;\n",
       "    }\n",
       "\n",
       "    .dataframe thead th {\n",
       "        text-align: right;\n",
       "    }\n",
       "</style>\n",
       "<table border=\"1\" class=\"dataframe\">\n",
       "  <thead>\n",
       "    <tr style=\"text-align: right;\">\n",
       "      <th></th>\n",
       "      <th>rank</th>\n",
       "    </tr>\n",
       "  </thead>\n",
       "  <tbody>\n",
       "    <tr>\n",
       "      <th>likes_received</th>\n",
       "      <td>1</td>\n",
       "    </tr>\n",
       "    <tr>\n",
       "      <th>mobile_likes</th>\n",
       "      <td>1</td>\n",
       "    </tr>\n",
       "    <tr>\n",
       "      <th>mobile_likes_received</th>\n",
       "      <td>1</td>\n",
       "    </tr>\n",
       "    <tr>\n",
       "      <th>www_likes</th>\n",
       "      <td>1</td>\n",
       "    </tr>\n",
       "  </tbody>\n",
       "</table>\n",
       "</div>"
      ],
      "text/plain": [
       "                       rank\n",
       "likes_received            1\n",
       "mobile_likes              1\n",
       "mobile_likes_received     1\n",
       "www_likes                 1"
      ]
     },
     "execution_count": 444,
     "metadata": {},
     "output_type": "execute_result"
    }
   ],
   "source": [
    "rfe_model = RFE(lir,n_features_to_select=4)\n",
    "rfe_model = rfe_model.fit(X_train,y_train)\n",
    "\n",
    "rf = pd.DataFrame(rfe_model.ranking_, index=X_train.columns, columns=['rank'])\n",
    "rf.sort_values(by='rank').head(4)\n"
   ]
  },
  {
   "cell_type": "code",
   "execution_count": 445,
   "metadata": {},
   "outputs": [
    {
     "data": {
      "text/html": [
       "<div>\n",
       "<style scoped>\n",
       "    .dataframe tbody tr th:only-of-type {\n",
       "        vertical-align: middle;\n",
       "    }\n",
       "\n",
       "    .dataframe tbody tr th {\n",
       "        vertical-align: top;\n",
       "    }\n",
       "\n",
       "    .dataframe thead th {\n",
       "        text-align: right;\n",
       "    }\n",
       "</style>\n",
       "<table border=\"1\" class=\"dataframe\">\n",
       "  <thead>\n",
       "    <tr style=\"text-align: right;\">\n",
       "      <th></th>\n",
       "      <th>age</th>\n",
       "      <th>dob_day</th>\n",
       "      <th>dob_year</th>\n",
       "      <th>dob_month</th>\n",
       "      <th>tenure</th>\n",
       "      <th>friend_count</th>\n",
       "      <th>friendships_initiated</th>\n",
       "      <th>likes</th>\n",
       "      <th>likes_received</th>\n",
       "      <th>mobile_likes</th>\n",
       "      <th>mobile_likes_received</th>\n",
       "      <th>www_likes</th>\n",
       "      <th>www_likes_received</th>\n",
       "      <th>male</th>\n",
       "    </tr>\n",
       "  </thead>\n",
       "  <tbody>\n",
       "    <tr>\n",
       "      <th>0</th>\n",
       "      <td>13</td>\n",
       "      <td>2</td>\n",
       "      <td>2000</td>\n",
       "      <td>2</td>\n",
       "      <td>0</td>\n",
       "      <td>0</td>\n",
       "      <td>0</td>\n",
       "      <td>1</td>\n",
       "      <td>0</td>\n",
       "      <td>0</td>\n",
       "      <td>0</td>\n",
       "      <td>1</td>\n",
       "      <td>0</td>\n",
       "      <td>1</td>\n",
       "    </tr>\n",
       "    <tr>\n",
       "      <th>1</th>\n",
       "      <td>14</td>\n",
       "      <td>22</td>\n",
       "      <td>1999</td>\n",
       "      <td>1</td>\n",
       "      <td>104</td>\n",
       "      <td>0</td>\n",
       "      <td>0</td>\n",
       "      <td>1</td>\n",
       "      <td>0</td>\n",
       "      <td>0</td>\n",
       "      <td>0</td>\n",
       "      <td>1</td>\n",
       "      <td>0</td>\n",
       "      <td>1</td>\n",
       "    </tr>\n",
       "    <tr>\n",
       "      <th>2</th>\n",
       "      <td>19</td>\n",
       "      <td>18</td>\n",
       "      <td>1994</td>\n",
       "      <td>10</td>\n",
       "      <td>212</td>\n",
       "      <td>0</td>\n",
       "      <td>0</td>\n",
       "      <td>1</td>\n",
       "      <td>0</td>\n",
       "      <td>0</td>\n",
       "      <td>0</td>\n",
       "      <td>1</td>\n",
       "      <td>0</td>\n",
       "      <td>0</td>\n",
       "    </tr>\n",
       "    <tr>\n",
       "      <th>3</th>\n",
       "      <td>21</td>\n",
       "      <td>1</td>\n",
       "      <td>1992</td>\n",
       "      <td>1</td>\n",
       "      <td>328</td>\n",
       "      <td>0</td>\n",
       "      <td>0</td>\n",
       "      <td>1</td>\n",
       "      <td>0</td>\n",
       "      <td>0</td>\n",
       "      <td>0</td>\n",
       "      <td>1</td>\n",
       "      <td>0</td>\n",
       "      <td>1</td>\n",
       "    </tr>\n",
       "    <tr>\n",
       "      <th>4</th>\n",
       "      <td>23</td>\n",
       "      <td>10</td>\n",
       "      <td>1990</td>\n",
       "      <td>2</td>\n",
       "      <td>580</td>\n",
       "      <td>0</td>\n",
       "      <td>0</td>\n",
       "      <td>1</td>\n",
       "      <td>0</td>\n",
       "      <td>0</td>\n",
       "      <td>0</td>\n",
       "      <td>1</td>\n",
       "      <td>0</td>\n",
       "      <td>1</td>\n",
       "    </tr>\n",
       "  </tbody>\n",
       "</table>\n",
       "</div>"
      ],
      "text/plain": [
       "   age  dob_day  dob_year  dob_month  tenure  friend_count  \\\n",
       "0   13        2      2000          2       0             0   \n",
       "1   14       22      1999          1     104             0   \n",
       "2   19       18      1994         10     212             0   \n",
       "3   21        1      1992          1     328             0   \n",
       "4   23       10      1990          2     580             0   \n",
       "\n",
       "   friendships_initiated  likes  likes_received  mobile_likes  \\\n",
       "0                      0      1               0             0   \n",
       "1                      0      1               0             0   \n",
       "2                      0      1               0             0   \n",
       "3                      0      1               0             0   \n",
       "4                      0      1               0             0   \n",
       "\n",
       "   mobile_likes_received  www_likes  www_likes_received  male  \n",
       "0                      0          1                   0     1  \n",
       "1                      0          1                   0     1  \n",
       "2                      0          1                   0     0  \n",
       "3                      0          1                   0     1  \n",
       "4                      0          1                   0     1  "
      ]
     },
     "execution_count": 445,
     "metadata": {},
     "output_type": "execute_result"
    }
   ],
   "source": [
    "df.head()"
   ]
  },
  {
   "cell_type": "code",
   "execution_count": 446,
   "metadata": {},
   "outputs": [],
   "source": [
    "y = df['likes']\n",
    "\n",
    "X = df[['age','likes_received','mobile_likes','www_likes']]"
   ]
  },
  {
   "cell_type": "code",
   "execution_count": 447,
   "metadata": {},
   "outputs": [],
   "source": [
    "ss = StandardScaler()\n",
    "Xs = ss.fit_transform(X)\n",
    "Xs = pd.DataFrame(Xs,columns=X.columns)\n",
    "Xs = sm.add_constant(Xs)\n"
   ]
  },
  {
   "cell_type": "code",
   "execution_count": 448,
   "metadata": {},
   "outputs": [],
   "source": [
    "from sklearn.model_selection import train_test_split\n",
    "X_train, X_test, y_train, y_test = train_test_split(Xs,y,test_size=0.3,random_state=1)"
   ]
  },
  {
   "cell_type": "code",
   "execution_count": 449,
   "metadata": {},
   "outputs": [
    {
     "data": {
      "text/html": [
       "<table class=\"simpletable\">\n",
       "<caption>OLS Regression Results</caption>\n",
       "<tr>\n",
       "  <th>Dep. Variable:</th>          <td>likes</td>      <th>  R-squared:         </th>  <td>   1.000</td> \n",
       "</tr>\n",
       "<tr>\n",
       "  <th>Model:</th>                   <td>OLS</td>       <th>  Adj. R-squared:    </th>  <td>   1.000</td> \n",
       "</tr>\n",
       "<tr>\n",
       "  <th>Method:</th>             <td>Least Squares</td>  <th>  F-statistic:       </th>  <td>8.738e+32</td>\n",
       "</tr>\n",
       "<tr>\n",
       "  <th>Date:</th>             <td>Mon, 12 Jul 2021</td> <th>  Prob (F-statistic):</th>   <td>  0.00</td>  \n",
       "</tr>\n",
       "<tr>\n",
       "  <th>Time:</th>                 <td>12:02:57</td>     <th>  Log-Likelihood:    </th>  <td>  41765.</td> \n",
       "</tr>\n",
       "<tr>\n",
       "  <th>No. Observations:</th>      <td>  1471</td>      <th>  AIC:               </th> <td>-8.352e+04</td>\n",
       "</tr>\n",
       "<tr>\n",
       "  <th>Df Residuals:</th>          <td>  1466</td>      <th>  BIC:               </th> <td>-8.349e+04</td>\n",
       "</tr>\n",
       "<tr>\n",
       "  <th>Df Model:</th>              <td>     4</td>      <th>                     </th>      <td> </td>    \n",
       "</tr>\n",
       "<tr>\n",
       "  <th>Covariance Type:</th>      <td>nonrobust</td>    <th>                     </th>      <td> </td>    \n",
       "</tr>\n",
       "</table>\n",
       "<table class=\"simpletable\">\n",
       "<tr>\n",
       "         <td></td>           <th>coef</th>     <th>std err</th>      <th>t</th>      <th>P>|t|</th>  <th>[0.025</th>    <th>0.975]</th>  \n",
       "</tr>\n",
       "<tr>\n",
       "  <th>const</th>          <td>   27.6694</td> <td> 2.95e-15</td> <td> 9.37e+15</td> <td> 0.000</td> <td>   27.669</td> <td>   27.669</td>\n",
       "</tr>\n",
       "<tr>\n",
       "  <th>age</th>            <td> 2.576e-14</td> <td> 3.07e-15</td> <td>    8.397</td> <td> 0.000</td> <td> 1.97e-14</td> <td> 3.18e-14</td>\n",
       "</tr>\n",
       "<tr>\n",
       "  <th>likes_received</th> <td> 2.487e-14</td> <td>  3.9e-15</td> <td>    6.377</td> <td> 0.000</td> <td> 1.72e-14</td> <td> 3.25e-14</td>\n",
       "</tr>\n",
       "<tr>\n",
       "  <th>mobile_likes</th>   <td>  155.2860</td> <td>    3e-15</td> <td> 5.18e+16</td> <td> 0.000</td> <td>  155.286</td> <td>  155.286</td>\n",
       "</tr>\n",
       "<tr>\n",
       "  <th>www_likes</th>      <td>   53.7584</td> <td> 3.44e-15</td> <td> 1.56e+16</td> <td> 0.000</td> <td>   53.758</td> <td>   53.758</td>\n",
       "</tr>\n",
       "</table>\n",
       "<table class=\"simpletable\">\n",
       "<tr>\n",
       "  <th>Omnibus:</th>       <td>3593.022</td> <th>  Durbin-Watson:     </th>   <td>   1.996</td>  \n",
       "</tr>\n",
       "<tr>\n",
       "  <th>Prob(Omnibus):</th>  <td> 0.000</td>  <th>  Jarque-Bera (JB):  </th> <td>35425953.958</td>\n",
       "</tr>\n",
       "<tr>\n",
       "  <th>Skew:</th>           <td>-24.387</td> <th>  Prob(JB):          </th>   <td>    0.00</td>  \n",
       "</tr>\n",
       "<tr>\n",
       "  <th>Kurtosis:</th>       <td>761.690</td> <th>  Cond. No.          </th>   <td>    1.61</td>  \n",
       "</tr>\n",
       "</table><br/><br/>Notes:<br/>[1] Standard Errors assume that the covariance matrix of the errors is correctly specified."
      ],
      "text/plain": [
       "<class 'statsmodels.iolib.summary.Summary'>\n",
       "\"\"\"\n",
       "                            OLS Regression Results                            \n",
       "==============================================================================\n",
       "Dep. Variable:                  likes   R-squared:                       1.000\n",
       "Model:                            OLS   Adj. R-squared:                  1.000\n",
       "Method:                 Least Squares   F-statistic:                 8.738e+32\n",
       "Date:                Mon, 12 Jul 2021   Prob (F-statistic):               0.00\n",
       "Time:                        12:02:57   Log-Likelihood:                 41765.\n",
       "No. Observations:                1471   AIC:                        -8.352e+04\n",
       "Df Residuals:                    1466   BIC:                        -8.349e+04\n",
       "Df Model:                           4                                         \n",
       "Covariance Type:            nonrobust                                         \n",
       "==================================================================================\n",
       "                     coef    std err          t      P>|t|      [0.025      0.975]\n",
       "----------------------------------------------------------------------------------\n",
       "const             27.6694   2.95e-15   9.37e+15      0.000      27.669      27.669\n",
       "age             2.576e-14   3.07e-15      8.397      0.000    1.97e-14    3.18e-14\n",
       "likes_received  2.487e-14    3.9e-15      6.377      0.000    1.72e-14    3.25e-14\n",
       "mobile_likes     155.2860      3e-15   5.18e+16      0.000     155.286     155.286\n",
       "www_likes         53.7584   3.44e-15   1.56e+16      0.000      53.758      53.758\n",
       "==============================================================================\n",
       "Omnibus:                     3593.022   Durbin-Watson:                   1.996\n",
       "Prob(Omnibus):                  0.000   Jarque-Bera (JB):         35425953.958\n",
       "Skew:                         -24.387   Prob(JB):                         0.00\n",
       "Kurtosis:                     761.690   Cond. No.                         1.61\n",
       "==============================================================================\n",
       "\n",
       "Notes:\n",
       "[1] Standard Errors assume that the covariance matrix of the errors is correctly specified.\n",
       "\"\"\""
      ]
     },
     "execution_count": 449,
     "metadata": {},
     "output_type": "execute_result"
    }
   ],
   "source": [
    "sig_model = sm.OLS(y_train,X_train).fit()\n",
    "\n",
    "sig_model.summary()"
   ]
  },
  {
   "cell_type": "markdown",
   "metadata": {},
   "source": [
    "<h2 class=\"list-group-item list-group-item-action active\" >5.Linear Regression Assumptions Validation</h2>\n",
    "\n",
    "\n",
    ">### 1. Linearity of the model\n",
    ">### 2. Homoscedasticity (equal variance) of residuals\n",
    ">### 3. Normality of residuals \n",
    ">### 4. Identifying Outliers/influential Cases"
   ]
  },
  {
   "cell_type": "markdown",
   "metadata": {},
   "source": [
    "#### 1. Linearity of the model"
   ]
  },
  {
   "cell_type": "markdown",
   "metadata": {},
   "source": [
    "* H0: fit of model using full sample = fit of model using a central subset (linear relationship)\n",
    "* H1: fit of model using full sample is worse compared  to fit of model using a central subset "
   ]
  },
  {
   "cell_type": "code",
   "execution_count": 450,
   "metadata": {},
   "outputs": [],
   "source": [
    "y = df['likes']\n",
    "\n",
    "X = df[['age','likes_received','mobile_likes','www_likes']]\n",
    "\n",
    "Xc= sm.add_constant(X)"
   ]
  },
  {
   "cell_type": "code",
   "execution_count": 451,
   "metadata": {},
   "outputs": [
    {
     "data": {
      "text/html": [
       "<table class=\"simpletable\">\n",
       "<caption>OLS Regression Results</caption>\n",
       "<tr>\n",
       "  <th>Dep. Variable:</th>          <td>likes</td>      <th>  R-squared:         </th>  <td>   1.000</td> \n",
       "</tr>\n",
       "<tr>\n",
       "  <th>Model:</th>                   <td>OLS</td>       <th>  Adj. R-squared:    </th>  <td>   1.000</td> \n",
       "</tr>\n",
       "<tr>\n",
       "  <th>Method:</th>             <td>Least Squares</td>  <th>  F-statistic:       </th>  <td>4.224e+32</td>\n",
       "</tr>\n",
       "<tr>\n",
       "  <th>Date:</th>             <td>Mon, 12 Jul 2021</td> <th>  Prob (F-statistic):</th>   <td>  0.00</td>  \n",
       "</tr>\n",
       "<tr>\n",
       "  <th>Time:</th>                 <td>12:02:57</td>     <th>  Log-Likelihood:    </th>  <td>  58602.</td> \n",
       "</tr>\n",
       "<tr>\n",
       "  <th>No. Observations:</th>      <td>  2102</td>      <th>  AIC:               </th> <td>-1.172e+05</td>\n",
       "</tr>\n",
       "<tr>\n",
       "  <th>Df Residuals:</th>          <td>  2097</td>      <th>  BIC:               </th> <td>-1.172e+05</td>\n",
       "</tr>\n",
       "<tr>\n",
       "  <th>Df Model:</th>              <td>     4</td>      <th>                     </th>      <td> </td>    \n",
       "</tr>\n",
       "<tr>\n",
       "  <th>Covariance Type:</th>      <td>nonrobust</td>    <th>                     </th>      <td> </td>    \n",
       "</tr>\n",
       "</table>\n",
       "<table class=\"simpletable\">\n",
       "<tr>\n",
       "         <td></td>           <th>coef</th>     <th>std err</th>      <th>t</th>      <th>P>|t|</th>  <th>[0.025</th>    <th>0.975]</th>  \n",
       "</tr>\n",
       "<tr>\n",
       "  <th>const</th>          <td>  2.22e-14</td> <td> 9.54e-15</td> <td>    2.328</td> <td> 0.020</td> <td>  3.5e-15</td> <td> 4.09e-14</td>\n",
       "</tr>\n",
       "<tr>\n",
       "  <th>age</th>            <td>-5.329e-15</td> <td> 2.55e-16</td> <td>  -20.859</td> <td> 0.000</td> <td>-5.83e-15</td> <td>-4.83e-15</td>\n",
       "</tr>\n",
       "<tr>\n",
       "  <th>likes_received</th> <td>  2.22e-16</td> <td> 1.11e-16</td> <td>    1.993</td> <td> 0.046</td> <td> 3.55e-18</td> <td> 4.41e-16</td>\n",
       "</tr>\n",
       "<tr>\n",
       "  <th>mobile_likes</th>   <td>    1.0000</td> <td> 2.72e-17</td> <td> 3.68e+16</td> <td> 0.000</td> <td>    1.000</td> <td>    1.000</td>\n",
       "</tr>\n",
       "<tr>\n",
       "  <th>www_likes</th>      <td>    1.0000</td> <td> 9.12e-17</td> <td>  1.1e+16</td> <td> 0.000</td> <td>    1.000</td> <td>    1.000</td>\n",
       "</tr>\n",
       "</table>\n",
       "<table class=\"simpletable\">\n",
       "<tr>\n",
       "  <th>Omnibus:</th>       <td>2893.756</td> <th>  Durbin-Watson:     </th>  <td>   0.520</td>  \n",
       "</tr>\n",
       "<tr>\n",
       "  <th>Prob(Omnibus):</th>  <td> 0.000</td>  <th>  Jarque-Bera (JB):  </th> <td>1725618.561</td>\n",
       "</tr>\n",
       "<tr>\n",
       "  <th>Skew:</th>           <td>-7.387</td>  <th>  Prob(JB):          </th>  <td>    0.00</td>  \n",
       "</tr>\n",
       "<tr>\n",
       "  <th>Kurtosis:</th>       <td>142.586</td> <th>  Cond. No.          </th>  <td>    363.</td>  \n",
       "</tr>\n",
       "</table><br/><br/>Notes:<br/>[1] Standard Errors assume that the covariance matrix of the errors is correctly specified."
      ],
      "text/plain": [
       "<class 'statsmodels.iolib.summary.Summary'>\n",
       "\"\"\"\n",
       "                            OLS Regression Results                            \n",
       "==============================================================================\n",
       "Dep. Variable:                  likes   R-squared:                       1.000\n",
       "Model:                            OLS   Adj. R-squared:                  1.000\n",
       "Method:                 Least Squares   F-statistic:                 4.224e+32\n",
       "Date:                Mon, 12 Jul 2021   Prob (F-statistic):               0.00\n",
       "Time:                        12:02:57   Log-Likelihood:                 58602.\n",
       "No. Observations:                2102   AIC:                        -1.172e+05\n",
       "Df Residuals:                    2097   BIC:                        -1.172e+05\n",
       "Df Model:                           4                                         \n",
       "Covariance Type:            nonrobust                                         \n",
       "==================================================================================\n",
       "                     coef    std err          t      P>|t|      [0.025      0.975]\n",
       "----------------------------------------------------------------------------------\n",
       "const            2.22e-14   9.54e-15      2.328      0.020     3.5e-15    4.09e-14\n",
       "age            -5.329e-15   2.55e-16    -20.859      0.000   -5.83e-15   -4.83e-15\n",
       "likes_received   2.22e-16   1.11e-16      1.993      0.046    3.55e-18    4.41e-16\n",
       "mobile_likes       1.0000   2.72e-17   3.68e+16      0.000       1.000       1.000\n",
       "www_likes          1.0000   9.12e-17    1.1e+16      0.000       1.000       1.000\n",
       "==============================================================================\n",
       "Omnibus:                     2893.756   Durbin-Watson:                   0.520\n",
       "Prob(Omnibus):                  0.000   Jarque-Bera (JB):          1725618.561\n",
       "Skew:                          -7.387   Prob(JB):                         0.00\n",
       "Kurtosis:                     142.586   Cond. No.                         363.\n",
       "==============================================================================\n",
       "\n",
       "Notes:\n",
       "[1] Standard Errors assume that the covariance matrix of the errors is correctly specified.\n",
       "\"\"\""
      ]
     },
     "execution_count": 451,
     "metadata": {},
     "output_type": "execute_result"
    }
   ],
   "source": [
    "sig_model = sm.OLS(y,Xc).fit()\n",
    "\n",
    "sig_model.summary()"
   ]
  },
  {
   "cell_type": "code",
   "execution_count": 452,
   "metadata": {},
   "outputs": [
    {
     "data": {
      "text/plain": [
       "(31.214557207559672, 0.0)"
      ]
     },
     "execution_count": 452,
     "metadata": {},
     "output_type": "execute_result"
    }
   ],
   "source": [
    "import statsmodels.api as sm\n",
    "sm.stats.diagnostic.linear_rainbow(sig_model)"
   ]
  },
  {
   "cell_type": "code",
   "execution_count": 453,
   "metadata": {},
   "outputs": [
    {
     "data": {
      "image/png": "[encoded data removed]",
      "text/plain": [
       "<Figure size 432x288 with 1 Axes>"
      ]
     },
     "metadata": {
      "needs_background": "light"
     },
     "output_type": "display_data"
    }
   ],
   "source": [
    "y_pred = sig_model.predict(Xc)\n",
    "\n",
    "sns.regplot(x=y_pred, y=y, lowess=True, line_kws={'color':'red'})\n",
    "plt.show()"
   ]
  },
  {
   "cell_type": "markdown",
   "metadata": {},
   "source": [
    "Inference:\n",
    "* Fit of full model can not be represented by fit of central subset."
   ]
  },
  {
   "cell_type": "markdown",
   "metadata": {},
   "source": [
    "#### 2. Homoscedasticity (equal variance) of residuals"
   ]
  },
  {
   "cell_type": "markdown",
   "metadata": {},
   "source": [
    "* H0: Variance is constant across the range of data \n",
    "* H1: Variance is not constant across the range of data "
   ]
  },
  {
   "cell_type": "code",
   "execution_count": 454,
   "metadata": {},
   "outputs": [
    {
     "data": {
      "text/plain": [
       "(0.5126981591116522, 0.9999999999999999, 'increasing')"
      ]
     },
     "execution_count": 454,
     "metadata": {},
     "output_type": "execute_result"
    }
   ],
   "source": [
    "import statsmodels.stats.api as sms\n",
    "\n",
    "residuals = sig_model.resid\n",
    "y_pred = sig_model.predict(Xc)\n",
    "\n",
    "sms.het_goldfeldquandt(y=residuals, x=Xc)"
   ]
  },
  {
   "cell_type": "code",
   "execution_count": 455,
   "metadata": {},
   "outputs": [
    {
     "data": {
      "image/png": "[encoded data removed]",
      "text/plain": [
       "<Figure size 432x288 with 1 Axes>"
      ]
     },
     "metadata": {
      "needs_background": "light"
     },
     "output_type": "display_data"
    }
   ],
   "source": [
    "sns.regplot(x=y_pred, y=residuals, lowess=True, line_kws={'color':'red'})\n",
    "plt.xlabel('y_pred')\n",
    "plt.ylabel('residuals')\n",
    "plt.show()"
   ]
  },
  {
   "cell_type": "markdown",
   "metadata": {},
   "source": [
    "Inference:\n",
    "* Variance is constant across range of data."
   ]
  },
  {
   "cell_type": "markdown",
   "metadata": {},
   "source": [
    "#### 3. Normality of residuals "
   ]
  },
  {
   "cell_type": "markdown",
   "metadata": {},
   "source": [
    "* H0: Data is normal\n",
    "* H1: Data is not normal"
   ]
  },
  {
   "cell_type": "code",
   "execution_count": 456,
   "metadata": {},
   "outputs": [],
   "source": [
    "import scipy.stats as stats"
   ]
  },
  {
   "cell_type": "code",
   "execution_count": 457,
   "metadata": {},
   "outputs": [
    {
     "name": "stdout",
     "output_type": "stream",
     "text": [
      "Jarque_beraResult(statistic=1725618.560579149, pvalue=0.0)\n"
     ]
    }
   ],
   "source": [
    "print(stats.jarque_bera(residuals))"
   ]
  },
  {
   "cell_type": "code",
   "execution_count": 458,
   "metadata": {},
   "outputs": [
    {
     "data": {
      "image/png": "[encoded data removed]",
      "text/plain": [
       "<Figure size 432x288 with 1 Axes>"
      ]
     },
     "metadata": {
      "needs_background": "light"
     },
     "output_type": "display_data"
    }
   ],
   "source": [
    "stats.probplot(residuals, plot=plt)\n",
    "plt.show()"
   ]
  },
  {
   "cell_type": "markdown",
   "metadata": {},
   "source": [
    "Inference:\n",
    "* Residuals are not normally distributed."
   ]
  },
  {
   "cell_type": "markdown",
   "metadata": {},
   "source": [
    "#### 4. Identifying Outliers/influential Cases"
   ]
  },
  {
   "cell_type": "code",
   "execution_count": 489,
   "metadata": {},
   "outputs": [],
   "source": [
    "features=[]\n",
    "skewness=[]\n",
    "for i in df_numeric.columns:\n",
    "    features.append(i)\n",
    "    skewness.append(df[i].skew())\n",
    "    \n",
    "    "
   ]
  },
  {
   "cell_type": "code",
   "execution_count": 502,
   "metadata": {},
   "outputs": [
    {
     "data": {
      "text/html": [
       "<div>\n",
       "<style scoped>\n",
       "    .dataframe tbody tr th:only-of-type {\n",
       "        vertical-align: middle;\n",
       "    }\n",
       "\n",
       "    .dataframe tbody tr th {\n",
       "        vertical-align: top;\n",
       "    }\n",
       "\n",
       "    .dataframe thead th {\n",
       "        text-align: right;\n",
       "    }\n",
       "</style>\n",
       "<table border=\"1\" class=\"dataframe\">\n",
       "  <thead>\n",
       "    <tr style=\"text-align: right;\">\n",
       "      <th></th>\n",
       "      <th>features</th>\n",
       "      <th>skewness</th>\n",
       "    </tr>\n",
       "  </thead>\n",
       "  <tbody>\n",
       "    <tr>\n",
       "      <th>2</th>\n",
       "      <td>dob_year</td>\n",
       "      <td>-1.63073</td>\n",
       "    </tr>\n",
       "    <tr>\n",
       "      <th>3</th>\n",
       "      <td>dob_month</td>\n",
       "      <td>0.158794</td>\n",
       "    </tr>\n",
       "    <tr>\n",
       "      <th>1</th>\n",
       "      <td>dob_day</td>\n",
       "      <td>0.241792</td>\n",
       "    </tr>\n",
       "    <tr>\n",
       "      <th>5</th>\n",
       "      <td>friend_count</td>\n",
       "      <td>0.339639</td>\n",
       "    </tr>\n",
       "    <tr>\n",
       "      <th>6</th>\n",
       "      <td>friendships_initiated</td>\n",
       "      <td>0.693967</td>\n",
       "    </tr>\n",
       "    <tr>\n",
       "      <th>0</th>\n",
       "      <td>age</td>\n",
       "      <td>1.63073</td>\n",
       "    </tr>\n",
       "    <tr>\n",
       "      <th>4</th>\n",
       "      <td>tenure</td>\n",
       "      <td>2.0383</td>\n",
       "    </tr>\n",
       "    <tr>\n",
       "      <th>11</th>\n",
       "      <td>www_likes</td>\n",
       "      <td>16.9338</td>\n",
       "    </tr>\n",
       "    <tr>\n",
       "      <th>12</th>\n",
       "      <td>www_likes_received</td>\n",
       "      <td>17.0515</td>\n",
       "    </tr>\n",
       "    <tr>\n",
       "      <th>8</th>\n",
       "      <td>likes_received</td>\n",
       "      <td>18.4094</td>\n",
       "    </tr>\n",
       "    <tr>\n",
       "      <th>10</th>\n",
       "      <td>mobile_likes_received</td>\n",
       "      <td>18.558</td>\n",
       "    </tr>\n",
       "    <tr>\n",
       "      <th>7</th>\n",
       "      <td>likes</td>\n",
       "      <td>24.9477</td>\n",
       "    </tr>\n",
       "    <tr>\n",
       "      <th>9</th>\n",
       "      <td>mobile_likes</td>\n",
       "      <td>28.5516</td>\n",
       "    </tr>\n",
       "  </tbody>\n",
       "</table>\n",
       "</div>"
      ],
      "text/plain": [
       "                 features  skewness\n",
       "2                dob_year  -1.63073\n",
       "3               dob_month  0.158794\n",
       "1                 dob_day  0.241792\n",
       "5            friend_count  0.339639\n",
       "6   friendships_initiated  0.693967\n",
       "0                     age   1.63073\n",
       "4                  tenure    2.0383\n",
       "11              www_likes   16.9338\n",
       "12     www_likes_received   17.0515\n",
       "8          likes_received   18.4094\n",
       "10  mobile_likes_received    18.558\n",
       "7                   likes   24.9477\n",
       "9            mobile_likes   28.5516"
      ]
     },
     "execution_count": 502,
     "metadata": {},
     "output_type": "execute_result"
    }
   ],
   "source": [
    "df_ol = pd.DataFrame([features,skewness]).T\n",
    "df_ol.columns=['features','skewness']\n",
    "df_ol.sort_values('skewness')\n"
   ]
  },
  {
   "cell_type": "code",
   "execution_count": 507,
   "metadata": {},
   "outputs": [
    {
     "name": "stdout",
     "output_type": "stream",
     "text": [
      "List of features having significant skewness due to outliers: \n",
      " ['likes', 'likes_received', 'mobile_likes', 'mobile_likes_received', 'www_likes', 'www_likes_received']\n"
     ]
    }
   ],
   "source": [
    "print('List of features having significant skewness due to outliers:','\\n',list(df_ol[df_ol.skewness>5].features))"
   ]
  },
  {
   "cell_type": "markdown",
   "metadata": {},
   "source": [
    "<h2 class=\"list-group-item list-group-item-action active\" >6.Rebuilding the Model: Feature Selection using RFE & K-Fold Cross Validation</h2>\n",
    "\n",
    "\n",
    ">### A. Finding optimal feature count using RFE and plot the r2 and RMSE against n_features.\n",
    "\n",
    ">### B. K-Fold Cross Validation"
   ]
  },
  {
   "cell_type": "code",
   "execution_count": 459,
   "metadata": {},
   "outputs": [
    {
     "data": {
      "text/plain": [
       "(2102, 14)"
      ]
     },
     "execution_count": 459,
     "metadata": {},
     "output_type": "execute_result"
    }
   ],
   "source": [
    "df.shape"
   ]
  },
  {
   "cell_type": "code",
   "execution_count": 460,
   "metadata": {},
   "outputs": [
    {
     "data": {
      "text/plain": [
       "GridSearchCV(cv=KFold(n_splits=3, random_state=1, shuffle=True),\n",
       "             estimator=RFE(estimator=LinearRegression()),\n",
       "             param_grid=[{'n_features_to_select': [1, 2, 3, 4, 5, 6, 7, 8, 9,\n",
       "                                                   10, 11, 12, 13, 14, 15, 16,\n",
       "                                                   17, 18, 19, 20, 21, 22, 23,\n",
       "                                                   24, 25, 26, 27, 28, 29]}],\n",
       "             return_train_score=True, scoring='r2')"
      ]
     },
     "execution_count": 460,
     "metadata": {},
     "output_type": "execute_result"
    }
   ],
   "source": [
    "from sklearn.model_selection import GridSearchCV\n",
    "from sklearn.feature_selection import RFE\n",
    "\n",
    "from sklearn.model_selection import KFold\n",
    "\n",
    "lir = LinearRegression()\n",
    "rfe = RFE(lir)\n",
    "\n",
    "params = [{'n_features_to_select': list(range(1, 30))}]\n",
    "lir = LinearRegression(fit_intercept=True)\n",
    "kfold = KFold(n_splits=3, shuffle=True, random_state=1)\n",
    "\n",
    "gsearch = GridSearchCV(rfe, param_grid=params, scoring='r2', cv=kfold, return_train_score=True)\n",
    "gsearch.fit(X_train,y_train)"
   ]
  },
  {
   "cell_type": "code",
   "execution_count": 461,
   "metadata": {},
   "outputs": [
    {
     "data": {
      "text/plain": [
       "{'n_features_to_select': 2}"
      ]
     },
     "execution_count": 461,
     "metadata": {},
     "output_type": "execute_result"
    }
   ],
   "source": [
    "gsearch.best_params_"
   ]
  },
  {
   "cell_type": "code",
   "execution_count": 468,
   "metadata": {},
   "outputs": [
    {
     "data": {
      "text/html": [
       "<div>\n",
       "<style scoped>\n",
       "    .dataframe tbody tr th:only-of-type {\n",
       "        vertical-align: middle;\n",
       "    }\n",
       "\n",
       "    .dataframe tbody tr th {\n",
       "        vertical-align: top;\n",
       "    }\n",
       "\n",
       "    .dataframe thead th {\n",
       "        text-align: right;\n",
       "    }\n",
       "</style>\n",
       "<table border=\"1\" class=\"dataframe\">\n",
       "  <thead>\n",
       "    <tr style=\"text-align: right;\">\n",
       "      <th></th>\n",
       "      <th>rank</th>\n",
       "    </tr>\n",
       "  </thead>\n",
       "  <tbody>\n",
       "    <tr>\n",
       "      <th>mobile_likes</th>\n",
       "      <td>1</td>\n",
       "    </tr>\n",
       "    <tr>\n",
       "      <th>www_likes</th>\n",
       "      <td>1</td>\n",
       "    </tr>\n",
       "    <tr>\n",
       "      <th>likes_received</th>\n",
       "      <td>2</td>\n",
       "    </tr>\n",
       "    <tr>\n",
       "      <th>age</th>\n",
       "      <td>3</td>\n",
       "    </tr>\n",
       "    <tr>\n",
       "      <th>const</th>\n",
       "      <td>4</td>\n",
       "    </tr>\n",
       "  </tbody>\n",
       "</table>\n",
       "</div>"
      ],
      "text/plain": [
       "                rank\n",
       "mobile_likes       1\n",
       "www_likes          1\n",
       "likes_received     2\n",
       "age                3\n",
       "const              4"
      ]
     },
     "execution_count": 468,
     "metadata": {},
     "output_type": "execute_result"
    }
   ],
   "source": [
    "rfe_model = RFE(lir,n_features_to_select=2)\n",
    "rfe_model = rfe_model.fit(X_train,y_train)\n",
    "\n",
    "rf = pd.DataFrame(rfe_model.ranking_, index=X_train.columns, columns=['rank'])\n",
    "rf.sort_values(by='rank').head()\n"
   ]
  },
  {
   "cell_type": "code",
   "execution_count": 463,
   "metadata": {},
   "outputs": [
    {
     "data": {
      "text/html": [
       "<div>\n",
       "<style scoped>\n",
       "    .dataframe tbody tr th:only-of-type {\n",
       "        vertical-align: middle;\n",
       "    }\n",
       "\n",
       "    .dataframe tbody tr th {\n",
       "        vertical-align: top;\n",
       "    }\n",
       "\n",
       "    .dataframe thead th {\n",
       "        text-align: right;\n",
       "    }\n",
       "</style>\n",
       "<table border=\"1\" class=\"dataframe\">\n",
       "  <thead>\n",
       "    <tr style=\"text-align: right;\">\n",
       "      <th></th>\n",
       "      <th>age</th>\n",
       "      <th>dob_day</th>\n",
       "      <th>dob_year</th>\n",
       "      <th>dob_month</th>\n",
       "      <th>tenure</th>\n",
       "      <th>friend_count</th>\n",
       "      <th>friendships_initiated</th>\n",
       "      <th>likes</th>\n",
       "      <th>likes_received</th>\n",
       "      <th>mobile_likes</th>\n",
       "      <th>mobile_likes_received</th>\n",
       "      <th>www_likes</th>\n",
       "      <th>www_likes_received</th>\n",
       "      <th>male</th>\n",
       "    </tr>\n",
       "  </thead>\n",
       "  <tbody>\n",
       "    <tr>\n",
       "      <th>0</th>\n",
       "      <td>13</td>\n",
       "      <td>2</td>\n",
       "      <td>2000</td>\n",
       "      <td>2</td>\n",
       "      <td>0</td>\n",
       "      <td>0</td>\n",
       "      <td>0</td>\n",
       "      <td>1</td>\n",
       "      <td>0</td>\n",
       "      <td>0</td>\n",
       "      <td>0</td>\n",
       "      <td>1</td>\n",
       "      <td>0</td>\n",
       "      <td>1</td>\n",
       "    </tr>\n",
       "    <tr>\n",
       "      <th>1</th>\n",
       "      <td>14</td>\n",
       "      <td>22</td>\n",
       "      <td>1999</td>\n",
       "      <td>1</td>\n",
       "      <td>104</td>\n",
       "      <td>0</td>\n",
       "      <td>0</td>\n",
       "      <td>1</td>\n",
       "      <td>0</td>\n",
       "      <td>0</td>\n",
       "      <td>0</td>\n",
       "      <td>1</td>\n",
       "      <td>0</td>\n",
       "      <td>1</td>\n",
       "    </tr>\n",
       "    <tr>\n",
       "      <th>2</th>\n",
       "      <td>19</td>\n",
       "      <td>18</td>\n",
       "      <td>1994</td>\n",
       "      <td>10</td>\n",
       "      <td>212</td>\n",
       "      <td>0</td>\n",
       "      <td>0</td>\n",
       "      <td>1</td>\n",
       "      <td>0</td>\n",
       "      <td>0</td>\n",
       "      <td>0</td>\n",
       "      <td>1</td>\n",
       "      <td>0</td>\n",
       "      <td>0</td>\n",
       "    </tr>\n",
       "    <tr>\n",
       "      <th>3</th>\n",
       "      <td>21</td>\n",
       "      <td>1</td>\n",
       "      <td>1992</td>\n",
       "      <td>1</td>\n",
       "      <td>328</td>\n",
       "      <td>0</td>\n",
       "      <td>0</td>\n",
       "      <td>1</td>\n",
       "      <td>0</td>\n",
       "      <td>0</td>\n",
       "      <td>0</td>\n",
       "      <td>1</td>\n",
       "      <td>0</td>\n",
       "      <td>1</td>\n",
       "    </tr>\n",
       "    <tr>\n",
       "      <th>4</th>\n",
       "      <td>23</td>\n",
       "      <td>10</td>\n",
       "      <td>1990</td>\n",
       "      <td>2</td>\n",
       "      <td>580</td>\n",
       "      <td>0</td>\n",
       "      <td>0</td>\n",
       "      <td>1</td>\n",
       "      <td>0</td>\n",
       "      <td>0</td>\n",
       "      <td>0</td>\n",
       "      <td>1</td>\n",
       "      <td>0</td>\n",
       "      <td>1</td>\n",
       "    </tr>\n",
       "  </tbody>\n",
       "</table>\n",
       "</div>"
      ],
      "text/plain": [
       "   age  dob_day  dob_year  dob_month  tenure  friend_count  \\\n",
       "0   13        2      2000          2       0             0   \n",
       "1   14       22      1999          1     104             0   \n",
       "2   19       18      1994         10     212             0   \n",
       "3   21        1      1992          1     328             0   \n",
       "4   23       10      1990          2     580             0   \n",
       "\n",
       "   friendships_initiated  likes  likes_received  mobile_likes  \\\n",
       "0                      0      1               0             0   \n",
       "1                      0      1               0             0   \n",
       "2                      0      1               0             0   \n",
       "3                      0      1               0             0   \n",
       "4                      0      1               0             0   \n",
       "\n",
       "   mobile_likes_received  www_likes  www_likes_received  male  \n",
       "0                      0          1                   0     1  \n",
       "1                      0          1                   0     1  \n",
       "2                      0          1                   0     0  \n",
       "3                      0          1                   0     1  \n",
       "4                      0          1                   0     1  "
      ]
     },
     "execution_count": 463,
     "metadata": {},
     "output_type": "execute_result"
    }
   ],
   "source": [
    "df.head()"
   ]
  },
  {
   "cell_type": "code",
   "execution_count": 469,
   "metadata": {},
   "outputs": [],
   "source": [
    "y = df['likes']\n",
    "\n",
    "X = df[['mobile_likes','www_likes']]"
   ]
  },
  {
   "cell_type": "code",
   "execution_count": 470,
   "metadata": {},
   "outputs": [],
   "source": [
    "ss = StandardScaler()\n",
    "Xs = ss.fit_transform(X)\n",
    "Xs = pd.DataFrame(Xs,columns=X.columns)\n",
    "Xs = sm.add_constant(Xs)\n"
   ]
  },
  {
   "cell_type": "code",
   "execution_count": 471,
   "metadata": {},
   "outputs": [],
   "source": [
    "from sklearn.model_selection import train_test_split\n",
    "X_train, X_test, y_train, y_test = train_test_split(Xs,y,test_size=0.3,random_state=1)"
   ]
  },
  {
   "cell_type": "code",
   "execution_count": 472,
   "metadata": {},
   "outputs": [
    {
     "data": {
      "text/html": [
       "<table class=\"simpletable\">\n",
       "<caption>OLS Regression Results</caption>\n",
       "<tr>\n",
       "  <th>Dep. Variable:</th>          <td>likes</td>      <th>  R-squared:         </th>  <td>   1.000</td> \n",
       "</tr>\n",
       "<tr>\n",
       "  <th>Model:</th>                   <td>OLS</td>       <th>  Adj. R-squared:    </th>  <td>   1.000</td> \n",
       "</tr>\n",
       "<tr>\n",
       "  <th>Method:</th>             <td>Least Squares</td>  <th>  F-statistic:       </th>  <td>2.652e+34</td>\n",
       "</tr>\n",
       "<tr>\n",
       "  <th>Date:</th>             <td>Mon, 12 Jul 2021</td> <th>  Prob (F-statistic):</th>   <td>  0.00</td>  \n",
       "</tr>\n",
       "<tr>\n",
       "  <th>Time:</th>                 <td>12:03:37</td>     <th>  Log-Likelihood:    </th>  <td>  43764.</td> \n",
       "</tr>\n",
       "<tr>\n",
       "  <th>No. Observations:</th>      <td>  1471</td>      <th>  AIC:               </th> <td>-8.752e+04</td>\n",
       "</tr>\n",
       "<tr>\n",
       "  <th>Df Residuals:</th>          <td>  1468</td>      <th>  BIC:               </th> <td>-8.751e+04</td>\n",
       "</tr>\n",
       "<tr>\n",
       "  <th>Df Model:</th>              <td>     2</td>      <th>                     </th>      <td> </td>    \n",
       "</tr>\n",
       "<tr>\n",
       "  <th>Covariance Type:</th>      <td>nonrobust</td>    <th>                     </th>      <td> </td>    \n",
       "</tr>\n",
       "</table>\n",
       "<table class=\"simpletable\">\n",
       "<tr>\n",
       "        <td></td>          <th>coef</th>     <th>std err</th>      <th>t</th>      <th>P>|t|</th>  <th>[0.025</th>    <th>0.975]</th>  \n",
       "</tr>\n",
       "<tr>\n",
       "  <th>const</th>        <td>   27.6694</td> <td> 7.58e-16</td> <td> 3.65e+16</td> <td> 0.000</td> <td>   27.669</td> <td>   27.669</td>\n",
       "</tr>\n",
       "<tr>\n",
       "  <th>mobile_likes</th> <td>  155.2860</td> <td> 7.39e-16</td> <td>  2.1e+17</td> <td> 0.000</td> <td>  155.286</td> <td>  155.286</td>\n",
       "</tr>\n",
       "<tr>\n",
       "  <th>www_likes</th>    <td>   53.7584</td> <td> 8.61e-16</td> <td> 6.24e+16</td> <td> 0.000</td> <td>   53.758</td> <td>   53.758</td>\n",
       "</tr>\n",
       "</table>\n",
       "<table class=\"simpletable\">\n",
       "<tr>\n",
       "  <th>Omnibus:</th>       <td>3383.355</td> <th>  Durbin-Watson:     </th>   <td>   1.982</td>  \n",
       "</tr>\n",
       "<tr>\n",
       "  <th>Prob(Omnibus):</th>  <td> 0.000</td>  <th>  Jarque-Bera (JB):  </th> <td>27405066.474</td>\n",
       "</tr>\n",
       "<tr>\n",
       "  <th>Skew:</th>           <td>21.010</td>  <th>  Prob(JB):          </th>   <td>    0.00</td>  \n",
       "</tr>\n",
       "<tr>\n",
       "  <th>Kurtosis:</th>       <td>670.353</td> <th>  Cond. No.          </th>   <td>    1.24</td>  \n",
       "</tr>\n",
       "</table><br/><br/>Notes:<br/>[1] Standard Errors assume that the covariance matrix of the errors is correctly specified."
      ],
      "text/plain": [
       "<class 'statsmodels.iolib.summary.Summary'>\n",
       "\"\"\"\n",
       "                            OLS Regression Results                            \n",
       "==============================================================================\n",
       "Dep. Variable:                  likes   R-squared:                       1.000\n",
       "Model:                            OLS   Adj. R-squared:                  1.000\n",
       "Method:                 Least Squares   F-statistic:                 2.652e+34\n",
       "Date:                Mon, 12 Jul 2021   Prob (F-statistic):               0.00\n",
       "Time:                        12:03:37   Log-Likelihood:                 43764.\n",
       "No. Observations:                1471   AIC:                        -8.752e+04\n",
       "Df Residuals:                    1468   BIC:                        -8.751e+04\n",
       "Df Model:                           2                                         \n",
       "Covariance Type:            nonrobust                                         \n",
       "================================================================================\n",
       "                   coef    std err          t      P>|t|      [0.025      0.975]\n",
       "--------------------------------------------------------------------------------\n",
       "const           27.6694   7.58e-16   3.65e+16      0.000      27.669      27.669\n",
       "mobile_likes   155.2860   7.39e-16    2.1e+17      0.000     155.286     155.286\n",
       "www_likes       53.7584   8.61e-16   6.24e+16      0.000      53.758      53.758\n",
       "==============================================================================\n",
       "Omnibus:                     3383.355   Durbin-Watson:                   1.982\n",
       "Prob(Omnibus):                  0.000   Jarque-Bera (JB):         27405066.474\n",
       "Skew:                          21.010   Prob(JB):                         0.00\n",
       "Kurtosis:                     670.353   Cond. No.                         1.24\n",
       "==============================================================================\n",
       "\n",
       "Notes:\n",
       "[1] Standard Errors assume that the covariance matrix of the errors is correctly specified.\n",
       "\"\"\""
      ]
     },
     "execution_count": 472,
     "metadata": {},
     "output_type": "execute_result"
    }
   ],
   "source": [
    "sig_model = sm.OLS(y_train,X_train).fit()\n",
    "\n",
    "sig_model.summary()"
   ]
  },
  {
   "cell_type": "code",
   "execution_count": 479,
   "metadata": {},
   "outputs": [],
   "source": [
    "y_pred = sig_model.predict(X_test)"
   ]
  },
  {
   "cell_type": "code",
   "execution_count": 480,
   "metadata": {},
   "outputs": [],
   "source": [
    "from sklearn.metrics import r2_score,mean_squared_error"
   ]
  },
  {
   "cell_type": "code",
   "execution_count": 481,
   "metadata": {},
   "outputs": [],
   "source": [
    "r2_score = r2_score(y_test,y_pred)\n",
    "rmse = mean_squared_error(y_test,y_pred,squared=False)"
   ]
  },
  {
   "cell_type": "code",
   "execution_count": 484,
   "metadata": {},
   "outputs": [
    {
     "name": "stdout",
     "output_type": "stream",
     "text": [
      "r2-score: 1.0\n",
      "rmse: 2.7295463770858996e-14\n"
     ]
    }
   ],
   "source": [
    "print('r2-score:',r2_score)\n",
    "print('rmse:',rmse)"
   ]
  }
 ],
 "metadata": {
  "kernelspec": {
   "display_name": "Python 3",
   "language": "python",
   "name": "python3"
  },
  "language_info": {
   "codemirror_mode": {
    "name": "ipython",
    "version": 3
   },
   "file_extension": ".py",
   "mimetype": "text/x-python",
   "name": "python",
   "nbconvert_exporter": "python",
   "pygments_lexer": "ipython3",
   "version": "3.8.5"
  }
 },
 "nbformat": 4,
 "nbformat_minor": 4
}
