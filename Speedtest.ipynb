{
 "cells": [
  {
   "cell_type": "code",
   "execution_count": 11,
   "metadata": {},
   "outputs": [
    {
     "name": "stdout",
     "output_type": "stream",
     "text": [
      "What speed do you want to test: \n",
      " 1) Download Speed \n",
      " 2) Upload Speed \n",
      " 3) Ping  \n",
      " Your Choice: 3\n",
      "Ping results:  0\n"
     ]
    }
   ],
   "source": [
    "# Python program to test \n",
    "# internet speed \n",
    "  \n",
    "import speedtest   \n",
    "  \n",
    "st = speedtest.Speedtest() \n",
    "  \n",
    "option = int(input('''What speed do you want to test: \\n 1) Download Speed \\n 2) Upload Speed \\n 3) Ping  \\n Your Choice: ''')) \n",
    "  \n",
    "if option == 1:   \n",
    "  \n",
    "    print(\"Download Speed is : \",st.download()/1024**2)   \n",
    "elif option == 2:  \n",
    "  \n",
    "    print(\"Upload Speed is : \",st.upload()/1024**2)   \n",
    "elif option == 3:   \n",
    "  \n",
    "    servernames =[]   \n",
    "  \n",
    "    st.get_servers(servernames)   \n",
    "  \n",
    "    print(\"Ping results: \",st.results.ping)   \n",
    "else: \n",
    "  \n",
    "    print(\"Please enter the correct choice !\")  "
   ]
  },
  {
   "cell_type": "code",
   "execution_count": null,
   "metadata": {},
   "outputs": [],
   "source": []
  }
 ],
 "metadata": {
  "kernelspec": {
   "display_name": "Python 3",
   "language": "python",
   "name": "python3"
  },
  "language_info": {
   "codemirror_mode": {
    "name": "ipython",
    "version": 3
   },
   "file_extension": ".py",
   "mimetype": "text/x-python",
   "name": "python",
   "nbconvert_exporter": "python",
   "pygments_lexer": "ipython3",
   "version": "3.8.5"
  }
 },
 "nbformat": 4,
 "nbformat_minor": 4
}
