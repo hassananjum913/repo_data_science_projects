{
 "cells": [
  {
   "cell_type": "markdown",
   "metadata": {},
   "source": [
    "# <center>PGP Data Science Engineering</center>\n",
    "## <center>Introduction to Programming – Mini Project:</center>\n"
   ]
  },
  {
   "cell_type": "markdown",
   "metadata": {},
   "source": [
    "### Problem 1:\n",
    "\n",
    "1. Write a program to calculate area of shapes. Your program should be capable of calculating the area of a square, rectangle, triangle and a circle. The user should be presented with options to select the shape. Based on which shape is chosed by the user, the program should ask for the appropriate input and print the resulting area on the screen.\n",
    "\n",
    "When the program is run, the screen should display something like this:\n",
    "\n",
    "**Which shape would you like to calculate the area for? Please enter the option number-**<br>\n",
    "**1. Square**<br>\n",
    "**2. Rectangle**<br>\n",
    "**3. Triangle**<br>\n",
    "**4. Circle**<br>\n",
    "**Enter Option: _**\n",
    "\n",
    "Say the user enters the option 1.\n",
    "\n",
    "**Please enter the length of a side: _**\n",
    "\n",
    "If the user enters a value of 5. The output should be:\n",
    "\n",
    "**The area of the square is 25**\n",
    "\n",
    "This program should indicate that the input is invalid if the user enters a character instead of a number as input. For instance if the user enters a value of ‘a’ instead of 5 in the previous example the program should prompt:\n",
    "\n",
    "**Invalid input, please enter a number: _**\n"
   ]
  },
  {
   "cell_type": "code",
   "execution_count": 2,
   "metadata": {},
   "outputs": [
    {
     "name": "stdout",
     "output_type": "stream",
     "text": [
      "Which shape would you like to calculate the area for? Please enter the option number- \n",
      " 1. Square \n",
      " 2. Rectangle \n",
      " 3. Triangle \n",
      " 4. Circle \n",
      "Enter option: 3\n",
      "Enter 1st length of traingle: 2\n",
      "Enter 2nd length of traingle: 3\n",
      "Enter 3rd length of traingle: 4\n",
      "Area of triangle is : 2.9\n"
     ]
    }
   ],
   "source": [
    "import math as m\n",
    "def func_square():\n",
    "    a = int(input(\"Enter length of square: \"))\n",
    "    print(\"Area of square is : \",round((a*a),2 ))\n",
    "          \n",
    "def func_rect():\n",
    "    l = int(input(\"Enter length of rectangle: \"))\n",
    "    w = int(input(\"Enter width of rectangle: \"))\n",
    "    print(\"Area of rectangle is : \",round((l*w),2 ))\n",
    "\n",
    "def func_triangle():\n",
    "    a = int(input(\"Enter 1st length of traingle: \"))\n",
    "    b = int(input(\"Enter 2nd length of traingle: \"))\n",
    "    c = int(input(\"Enter 3rd length of traingle: \"))\n",
    "    s = (a+b+c)/2\n",
    "    area = (s*(s-a)*(s-b)*(s-c))**0.5\n",
    "    print(\"Area of triangle is :\",round(area,2) )\n",
    "\n",
    "def func_circle():\n",
    "    r = int(input(\"Enter radius of circle: \"))\n",
    "    print(\"Area of circle is : \", round((m.pi*r*r),2))    \n",
    "\n",
    "\n",
    "print(\"Which shape would you like to calculate the area for? Please enter the option number- \\n 1. Square \\n 2. Rectangle \\n 3. Triangle \\n 4. Circle \")\n",
    "choice = int(input(\"Enter option: \"))\n",
    "\n",
    "if choice == 1:\n",
    "    func_square()\n",
    "elif choice == 2:\n",
    "    func_rect()\n",
    "elif choice == 3:\n",
    "    func_triangle()\n",
    "elif choice == 4:\n",
    "    func_circle()\n",
    "else:\n",
    "    print(\"Invalid input, please enter a number: _\")\n"
   ]
  },
  {
   "cell_type": "markdown",
   "metadata": {},
   "source": [
    "## Problem 2:\n",
    "\n",
    "Create and encrypter in python based on the ceaser cipher. It is a substitution cipher where each character of the original text is shifted a certain number characters in the alphabet. Write a function that would require 2 arguments – the input text to be encrypted and a key. For eg: Given the input text ‘hello’ and the key 3, the resulting encryted text would be ‘khoor’. Here you can see that every character in the string hello is shifted by 3 characters. ‘h’ has shifted to ‘k’, ‘e’ has shifted to ‘h’ and so on. If a key of 5 were used, the resulting string would be ‘mjqqt’. This function should be capable of ignoring any characters which are not alphabets. Th2 character ‘z’ entered b\n",
    "y the user for a key of 3 would result in ‘c’.\n",
    "\n",
    "Usage:<br>\n",
    "**encrypt(‘hello world!’, 3)**<br>\n",
    "**‘khoor zruog!’**\n",
    "\n",
    "Similarly create decrypter which can decode the encryted text when provided the input text and key\n",
    "\n",
    "Usage:<br>\n",
    "**decrypt(‘khoor zruog!’, 3)**<br>\n",
    "**‘hello world!’**\n",
    "\n",
    "For the sake of simplicity you can assume that input solely consists of lowercase alphabets, spaces and punctuation symbols. Numbers in the input text would also be ignored similar to symbols."
   ]
  },
  {
   "cell_type": "code",
   "execution_count": 64,
   "metadata": {},
   "outputs": [
    {
     "data": {
      "text/plain": [
       "'khoor zruog!'"
      ]
     },
     "execution_count": 64,
     "metadata": {},
     "output_type": "execute_result"
    }
   ],
   "source": [
    "import string\n",
    "my_alphas = string.ascii_lowercase  \n",
    "\n",
    "def encrypt(my_string, shift):\n",
    "    new_string = ''\n",
    "    for i in my_string:\n",
    "        if i in my_alphas:\n",
    "            pos = my_alphas.index(i) + shift\n",
    "            if pos >  len(my_alphas):\n",
    "                pos -= len(my_alphas)\n",
    "            new_string += my_alphas[pos]\n",
    "        else:\n",
    "            new_string += i\n",
    "    return new_string\n",
    "\n",
    "encrypt(\"hello world!\",3)"
   ]
  },
  {
   "cell_type": "code",
   "execution_count": 62,
   "metadata": {},
   "outputs": [
    {
     "data": {
      "text/plain": [
       "'hello world!'"
      ]
     },
     "execution_count": 62,
     "metadata": {},
     "output_type": "execute_result"
    }
   ],
   "source": [
    "import string\n",
    "my_alphas = string.ascii_lowercase \n",
    "\n",
    "def decrypt(my_string, shift):\n",
    "    new_string = ''\n",
    "    for i in my_string:\n",
    "        if i in my_alphas:\n",
    "            pos = my_alphas.index(i) - shift\n",
    "            if pos >  len(my_alphas):\n",
    "                pos -= len(my_alphas)\n",
    "            new_string += my_alphas[pos]\n",
    "        else:\n",
    "            new_string += i\n",
    "    return new_string\n",
    "\n",
    "decrypt(\"khoor zruog!\",3)"
   ]
  },
  {
   "cell_type": "code",
   "execution_count": null,
   "metadata": {},
   "outputs": [],
   "source": []
  }
 ],
 "metadata": {
  "kernelspec": {
   "display_name": "Python 3",
   "language": "python",
   "name": "python3"
  },
  "language_info": {
   "codemirror_mode": {
    "name": "ipython",
    "version": 3
   },
   "file_extension": ".py",
   "mimetype": "text/x-python",
   "name": "python",
   "nbconvert_exporter": "python",
   "pygments_lexer": "ipython3",
   "version": "3.8.5"
  }
 },
 "nbformat": 4,
 "nbformat_minor": 2
}
